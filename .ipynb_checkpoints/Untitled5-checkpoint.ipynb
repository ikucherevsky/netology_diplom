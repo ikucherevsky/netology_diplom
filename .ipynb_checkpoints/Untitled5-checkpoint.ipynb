{
 "cells": [
  {
   "cell_type": "code",
   "execution_count": 61,
   "metadata": {},
   "outputs": [],
   "source": [
    "from keras.callbacks import ModelCheckpoint\n",
    "from keras.models import Sequential\n",
    "from keras.layers import Dense, Activation, Flatten,Dropout,LSTM\n",
    "from sklearn.model_selection import train_test_split\n",
    "from sklearn.preprocessing import StandardScaler\n",
    "from sklearn.metrics import mean_absolute_error \n",
    "from sklearn.metrics import r2_score\n",
    "from matplotlib import pyplot as plt\n",
    "import seaborn as sb\n",
    "import matplotlib.pyplot as plt\n",
    "import pandas as pd\n",
    "import numpy as np\n",
    "import warnings \n",
    "warnings.filterwarnings('ignore')\n",
    "warnings.filterwarnings('ignore', category=DeprecationWarning)"
   ]
  },
  {
   "cell_type": "code",
   "execution_count": 2,
   "metadata": {},
   "outputs": [],
   "source": [
    "fd_001_train = pd.read_csv('C:/Users/Игорь/Downloads/nasa-cmaps/CMaps/train_FD001.txt',header=None,sep=' ')\n",
    "fd_001_test = pd.read_csv('C:/Users/Игорь/Downloads/nasa-cmaps/CMaps/test_FD001.txt',header=None,sep=' ')\n",
    "fd_001_train.drop(columns=[26,27],inplace=True)\n",
    "fd_001_test.drop(columns=[26,27],inplace=True)\n",
    "columns = ['unit_number','time_in_cycles','setting_1','setting_2','TRA','T2','T24','T30','T50','P2','P15','P30','Nf',\n",
    "           'Nc','epr','Ps30','phi','NRf','NRc','BPR','farB','htBleed','Nf_dmd','PCNfR_dmd','W31','W32' ]\n",
    "fd_001_train.columns = columns\n",
    "fd_001_test.columns = columns\n",
    "# удалим колонки с константными значениями\n",
    "fd_001_train.drop(columns=['Nf_dmd','PCNfR_dmd','P2','T2','TRA','farB','epr'],inplace=True)"
   ]
  },
  {
   "cell_type": "code",
   "execution_count": 3,
   "metadata": {},
   "outputs": [],
   "source": [
    "# функция для подготовки тренировочных данных и формирования колонки RUL  с информациеей об оставшихся\n",
    "#до поломки циклах\n",
    "def prepare_train_data(data, factor = 0):\n",
    "    df = data.copy()\n",
    "    fd_RUL = df.groupby('unit_number')['time_in_cycles'].max().reset_index()\n",
    "    fd_RUL = pd.DataFrame(fd_RUL)\n",
    "    fd_RUL.columns = ['unit_number','max']\n",
    "    df = df.merge(fd_RUL, on=['unit_number'], how='left')\n",
    "    df['RUL'] = df['max'] - df['time_in_cycles']\n",
    "    df.drop(columns=['max'],inplace = True)\n",
    "    \n",
    "    return df[df['time_in_cycles'] > factor]\n"
   ]
  },
  {
   "cell_type": "code",
   "execution_count": 4,
   "metadata": {},
   "outputs": [],
   "source": [
    "df = prepare_train_data(fd_001_train)"
   ]
  },
  {
   "cell_type": "code",
   "execution_count": 5,
   "metadata": {},
   "outputs": [],
   "source": [
    "train_df = df.drop(columns = ['unit_number','setting_1','setting_2','P15','NRc'])"
   ]
  },
  {
   "cell_type": "code",
   "execution_count": 7,
   "metadata": {},
   "outputs": [],
   "source": [
    "X = train_df.iloc[:,:14].to_numpy() \n",
    "Y = train_df.iloc[:,14:].to_numpy()\n",
    "Y = np.ravel(Y)"
   ]
  },
  {
   "cell_type": "code",
   "execution_count": 47,
   "metadata": {},
   "outputs": [
    {
     "data": {
      "text/plain": [
       "20631"
      ]
     },
     "execution_count": 47,
     "metadata": {},
     "output_type": "execute_result"
    }
   ],
   "source": [
    "X.shape[0]"
   ]
  },
  {
   "cell_type": "code",
   "execution_count": 49,
   "metadata": {},
   "outputs": [],
   "source": [
    "y_scaler = StandardScaler()\n",
    "y_train_scaled = y_scaler.fit_transform(Y.reshape(-1,1)).flatten()"
   ]
  },
  {
   "cell_type": "code",
   "execution_count": 87,
   "metadata": {},
   "outputs": [
    {
     "name": "stdout",
     "output_type": "stream",
     "text": [
      "_________________________________________________________________\n",
      "Layer (type)                 Output Shape              Param #   \n",
      "=================================================================\n",
      "dense_54 (Dense)             (None, 140)               2100      \n",
      "_________________________________________________________________\n",
      "dense_55 (Dense)             (None, 140)               19740     \n",
      "_________________________________________________________________\n",
      "dropout_13 (Dropout)         (None, 140)               0         \n",
      "_________________________________________________________________\n",
      "dense_56 (Dense)             (None, 280)               39480     \n",
      "_________________________________________________________________\n",
      "dropout_14 (Dropout)         (None, 280)               0         \n",
      "_________________________________________________________________\n",
      "dense_57 (Dense)             (None, 280)               78680     \n",
      "_________________________________________________________________\n",
      "dropout_15 (Dropout)         (None, 280)               0         \n",
      "_________________________________________________________________\n",
      "dense_58 (Dense)             (None, 140)               39340     \n",
      "_________________________________________________________________\n",
      "dense_59 (Dense)             (None, 1)                 141       \n",
      "=================================================================\n",
      "Total params: 179,481\n",
      "Trainable params: 179,481\n",
      "Non-trainable params: 0\n",
      "_________________________________________________________________\n"
     ]
    }
   ],
   "source": [
    "NN_model = Sequential()\n",
    "\n",
    "# The Input Layer :\n",
    "NN_model.add(Dense(140, kernel_initializer='normal',input_dim = X.shape[1], activation='relu'))\n",
    "\n",
    "# The Hidden Layers :\n",
    "NN_model.add(Dense(140, kernel_initializer='normal',activation='relu'))\n",
    "NN_model.add(Dropout(0.2))\n",
    "NN_model.add(Dense(280, kernel_initializer='normal',activation='relu'))\n",
    "NN_model.add(Dropout(0.4))\n",
    "NN_model.add(Dense(280, kernel_initializer='normal',activation='relu'))\n",
    "NN_model.add(Dropout(0.2))\n",
    "NN_model.add(Dense(140, kernel_initializer='normal',activation='relu'))\n",
    "# The Output Layer :\n",
    "NN_model.add(Dense(1, kernel_initializer='normal',activation='linear'))\n",
    "\n",
    "# Compile the network :\n",
    "NN_model.compile(loss='mean_absolute_error', optimizer='adam', metrics=['mean_absolute_error'])\n",
    "NN_model.summary()"
   ]
  },
  {
   "cell_type": "markdown",
   "metadata": {},
   "source": [
    "## Define a checkpoint callback :"
   ]
  },
  {
   "cell_type": "code",
   "execution_count": 88,
   "metadata": {},
   "outputs": [],
   "source": [
    "checkpoint_name = 'Weights-{epoch:03d}--{val_loss:.5f}.hdf5' \n",
    "checkpoint = ModelCheckpoint(checkpoint_name, monitor='val_loss', verbose = 1, save_best_only = True, mode ='auto')\n",
    "callbacks_list = [checkpoint]"
   ]
  },
  {
   "cell_type": "markdown",
   "metadata": {},
   "source": [
    "## Train the model :"
   ]
  },
  {
   "cell_type": "code",
   "execution_count": 92,
   "metadata": {},
   "outputs": [
    {
     "name": "stdout",
     "output_type": "stream",
     "text": [
      "Train on 18540 samples, validate on 2060 samples\n",
      "Epoch 1/20\n",
      "18540/18540 [==============================] - 4s 222us/step - loss: 63.5734 - mean_absolute_error: 63.5734 - val_loss: 67.6382 - val_mean_absolute_error: 67.6382\n",
      "\n",
      "Epoch 00001: val_loss did not improve from 0.93573\n",
      "Epoch 2/20\n",
      "18540/18540 [==============================] - 4s 222us/step - loss: 56.2956 - mean_absolute_error: 56.2956 - val_loss: 67.3163 - val_mean_absolute_error: 67.3163\n",
      "\n",
      "Epoch 00002: val_loss did not improve from 0.93573\n",
      "Epoch 3/20\n",
      "18540/18540 [==============================] - 4s 235us/step - loss: 55.9601 - mean_absolute_error: 55.9601 - val_loss: 67.6833 - val_mean_absolute_error: 67.6833\n",
      "\n",
      "Epoch 00003: val_loss did not improve from 0.93573\n",
      "Epoch 4/20\n",
      "18540/18540 [==============================] - 4s 237us/step - loss: 55.7788 - mean_absolute_error: 55.7788 - val_loss: 67.8710 - val_mean_absolute_error: 67.8710\n",
      "\n",
      "Epoch 00004: val_loss did not improve from 0.93573\n",
      "Epoch 5/20\n",
      "18540/18540 [==============================] - 5s 250us/step - loss: 55.6884 - mean_absolute_error: 55.6884 - val_loss: 67.8362 - val_mean_absolute_error: 67.8362\n",
      "\n",
      "Epoch 00005: val_loss did not improve from 0.93573\n",
      "Epoch 6/20\n",
      "18540/18540 [==============================] - 4s 236us/step - loss: 55.7644 - mean_absolute_error: 55.7644 - val_loss: 67.6701 - val_mean_absolute_error: 67.6701\n",
      "\n",
      "Epoch 00006: val_loss did not improve from 0.93573\n",
      "Epoch 7/20\n",
      "18540/18540 [==============================] - 4s 235us/step - loss: 55.7062 - mean_absolute_error: 55.7062 - val_loss: 67.9346 - val_mean_absolute_error: 67.9346\n",
      "\n",
      "Epoch 00007: val_loss did not improve from 0.93573\n",
      "Epoch 8/20\n",
      "18540/18540 [==============================] - 4s 240us/step - loss: 55.6647 - mean_absolute_error: 55.6647 - val_loss: 68.1246 - val_mean_absolute_error: 68.1246\n",
      "\n",
      "Epoch 00008: val_loss did not improve from 0.93573\n",
      "Epoch 9/20\n",
      "18540/18540 [==============================] - 4s 241us/step - loss: 55.6286 - mean_absolute_error: 55.6286 - val_loss: 67.0082 - val_mean_absolute_error: 67.0082\n",
      "\n",
      "Epoch 00009: val_loss did not improve from 0.93573\n",
      "Epoch 10/20\n",
      "18540/18540 [==============================] - 4s 234us/step - loss: 55.6063 - mean_absolute_error: 55.6063 - val_loss: 67.1411 - val_mean_absolute_error: 67.1411\n",
      "\n",
      "Epoch 00010: val_loss did not improve from 0.93573\n",
      "Epoch 11/20\n",
      "18540/18540 [==============================] - 4s 239us/step - loss: 55.6724 - mean_absolute_error: 55.6724 - val_loss: 67.2566 - val_mean_absolute_error: 67.2566\n",
      "\n",
      "Epoch 00011: val_loss did not improve from 0.93573\n",
      "Epoch 12/20\n",
      "18540/18540 [==============================] - 4s 239us/step - loss: 55.5912 - mean_absolute_error: 55.5912 - val_loss: 67.6044 - val_mean_absolute_error: 67.6044\n",
      "\n",
      "Epoch 00012: val_loss did not improve from 0.93573\n",
      "Epoch 13/20\n",
      "18540/18540 [==============================] - 4s 239us/step - loss: 55.6172 - mean_absolute_error: 55.6172 - val_loss: 67.2198 - val_mean_absolute_error: 67.2198\n",
      "\n",
      "Epoch 00013: val_loss did not improve from 0.93573\n",
      "Epoch 14/20\n",
      "18540/18540 [==============================] - 4s 240us/step - loss: 55.5931 - mean_absolute_error: 55.5931 - val_loss: 67.2025 - val_mean_absolute_error: 67.2025\n",
      "\n",
      "Epoch 00014: val_loss did not improve from 0.93573\n",
      "Epoch 15/20\n",
      "18540/18540 [==============================] - 4s 238us/step - loss: 55.6403 - mean_absolute_error: 55.6403 - val_loss: 67.3279 - val_mean_absolute_error: 67.3279\n",
      "\n",
      "Epoch 00015: val_loss did not improve from 0.93573\n",
      "Epoch 16/20\n",
      "18540/18540 [==============================] - 4s 238us/step - loss: 55.6905 - mean_absolute_error: 55.6905 - val_loss: 67.5322 - val_mean_absolute_error: 67.5322\n",
      "\n",
      "Epoch 00016: val_loss did not improve from 0.93573\n",
      "Epoch 17/20\n",
      "18540/18540 [==============================] - 4s 241us/step - loss: 55.6105 - mean_absolute_error: 55.6105 - val_loss: 67.6340 - val_mean_absolute_error: 67.6340\n",
      "\n",
      "Epoch 00017: val_loss did not improve from 0.93573\n",
      "Epoch 18/20\n",
      "18540/18540 [==============================] - 4s 239us/step - loss: 55.6507 - mean_absolute_error: 55.6507 - val_loss: 67.4492 - val_mean_absolute_error: 67.4492\n",
      "\n",
      "Epoch 00018: val_loss did not improve from 0.93573\n",
      "Epoch 19/20\n",
      "18540/18540 [==============================] - 4s 234us/step - loss: 55.5961 - mean_absolute_error: 55.5961 - val_loss: 68.3221 - val_mean_absolute_error: 68.3221\n",
      "\n",
      "Epoch 00019: val_loss did not improve from 0.93573\n",
      "Epoch 20/20\n",
      "18540/18540 [==============================] - 4s 242us/step - loss: 55.6424 - mean_absolute_error: 55.6424 - val_loss: 67.5790 - val_mean_absolute_error: 67.5790\n",
      "\n",
      "Epoch 00020: val_loss did not improve from 0.93573\n"
     ]
    },
    {
     "data": {
      "text/plain": [
       "<keras.callbacks.History at 0x24626f2e7f0>"
      ]
     },
     "execution_count": 92,
     "metadata": {},
     "output_type": "execute_result"
    }
   ],
   "source": [
    "NN_model.fit(X[:20600], Y[:20600], epochs=20, batch_size=50, validation_split = 0.1, callbacks=callbacks_list)"
   ]
  },
  {
   "cell_type": "markdown",
   "metadata": {},
   "source": [
    "## Тестовые данные"
   ]
  },
  {
   "cell_type": "code",
   "execution_count": 18,
   "metadata": {},
   "outputs": [],
   "source": [
    "fd_001_test.drop(columns=['Nf_dmd','PCNfR_dmd','P2','T2','TRA','farB','epr'],inplace=True)\n",
    "test_max = fd_001_test.groupby('unit_number')['time_in_cycles'].max().reset_index()\n",
    "test_max.columns = ['unit_number','max']\n",
    "fd_001_test = fd_001_test.merge(test_max, on=['unit_number'], how='left')\n",
    "test = fd_001_test[fd_001_test['time_in_cycles'] == fd_001_test['max']].reset_index()\n",
    "test.drop(columns=['index','max','unit_number','setting_1','setting_2','P15','NRc'],inplace = True)\n",
    "X_001_test = test.to_numpy()"
   ]
  },
  {
   "cell_type": "code",
   "execution_count": 21,
   "metadata": {},
   "outputs": [],
   "source": [
    "RUL = pd.read_csv('C:/Users/Игорь/Downloads/nasa-cmaps/CMaps/RUL_FD001.txt',header=None,sep=' ')\n",
    "y_true = RUL[0].to_numpy()"
   ]
  },
  {
   "cell_type": "code",
   "execution_count": 93,
   "metadata": {},
   "outputs": [],
   "source": [
    "y_pred = NN_model.predict(X_001_test)\n",
    "#y_pred = y_scaler.inverse_transform(y_pred).flatten()"
   ]
  },
  {
   "cell_type": "code",
   "execution_count": 94,
   "metadata": {},
   "outputs": [
    {
     "data": {
      "text/plain": [
       "38.400350189208986"
      ]
     },
     "execution_count": 94,
     "metadata": {},
     "output_type": "execute_result"
    }
   ],
   "source": [
    "mean_absolute_error(y_true, y_pred)"
   ]
  },
  {
   "cell_type": "code",
   "execution_count": 95,
   "metadata": {},
   "outputs": [
    {
     "data": {
      "text/plain": [
       "-0.37598837123744167"
      ]
     },
     "execution_count": 95,
     "metadata": {},
     "output_type": "execute_result"
    }
   ],
   "source": [
    "r2_score(y_true, y_pred)"
   ]
  },
  {
   "cell_type": "code",
   "execution_count": 69,
   "metadata": {},
   "outputs": [
    {
     "data": {
      "image/png": "[encoded data removed]",
      "text/plain": [
       "<Figure size 432x288 with 1 Axes>"
      ]
     },
     "metadata": {
      "needs_background": "light"
     },
     "output_type": "display_data"
    }
   ],
   "source": [
    "plt.plot(y_pred)\n",
    "plt.plot(y_true)\n",
    "\n",
    "\n",
    "plt.tick_params(axis='x', which='both', bottom=False, top=False,\n",
    "                labelbottom=False)\n",
    "plt.ylabel('RUL')\n",
    "plt.xlabel('training samples')\n",
    "plt.legend(('Predicted', 'True'), loc='upper right')\n",
    "plt.title('Сравнение реальных и предсказанных значений при совместном для всех двигателей предсказании ')\n",
    "plt.show()"
   ]
  },
  {
   "cell_type": "code",
   "execution_count": null,
   "metadata": {},
   "outputs": [],
   "source": []
  }
 ],
 "metadata": {
  "kernelspec": {
   "display_name": "Python 3",
   "language": "python",
   "name": "python3"
  },
  "language_info": {
   "codemirror_mode": {
    "name": "ipython",
    "version": 3
   },
   "file_extension": ".py",
   "mimetype": "text/x-python",
   "name": "python",
   "nbconvert_exporter": "python",
   "pygments_lexer": "ipython3",
   "version": "3.7.3"
  }
 },
 "nbformat": 4,
 "nbformat_minor": 2
}
