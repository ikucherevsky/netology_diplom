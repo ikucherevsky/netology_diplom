{
 "cells": [
  {
   "cell_type": "code",
   "execution_count": 97,
   "metadata": {},
   "outputs": [],
   "source": [
    "from keras.callbacks import ModelCheckpoint\n",
    "from keras.models import Sequential\n",
    "from keras.layers import Dense, Activation, Flatten,Dropout,LSTM\n",
    "from sklearn.model_selection import train_test_split\n",
    "from sklearn.preprocessing import StandardScaler\n",
    "from sklearn.metrics import mean_absolute_error \n",
    "from sklearn.metrics import r2_score\n",
    "from matplotlib import pyplot as plt\n",
    "import seaborn as sb\n",
    "import matplotlib.pyplot as plt\n",
    "import pandas as pd\n",
    "import numpy as np\n",
    "import warnings \n",
    "warnings.filterwarnings('ignore')\n",
    "warnings.filterwarnings('ignore', category=DeprecationWarning)"
   ]
  },
  {
   "cell_type": "code",
   "execution_count": 98,
   "metadata": {},
   "outputs": [],
   "source": [
    "fd_001_train = pd.read_csv('C:/Users/Игорь/Downloads/nasa-cmaps/CMaps/train_FD001.txt',header=None,sep=' ')\n",
    "fd_001_test = pd.read_csv('C:/Users/Игорь/Downloads/nasa-cmaps/CMaps/test_FD001.txt',header=None,sep=' ')\n",
    "fd_001_train.drop(columns=[26,27],inplace=True)\n",
    "fd_001_test.drop(columns=[26,27],inplace=True)\n",
    "columns = ['unit_number','time_in_cycles','setting_1','setting_2','TRA','T2','T24','T30','T50','P2','P15','P30','Nf',\n",
    "           'Nc','epr','Ps30','phi','NRf','NRc','BPR','farB','htBleed','Nf_dmd','PCNfR_dmd','W31','W32' ]\n",
    "fd_001_train.columns = columns\n",
    "fd_001_test.columns = columns\n",
    "# удалим колонки с константными значениями\n",
    "fd_001_train.drop(columns=['Nf_dmd','PCNfR_dmd','P2','T2','TRA','farB','epr'],inplace=True)"
   ]
  },
  {
   "cell_type": "code",
   "execution_count": 99,
   "metadata": {},
   "outputs": [],
   "source": [
    "# функция для подготовки тренировочных данных и формирования колонки RUL  с информациеей об оставшихся\n",
    "#до поломки циклах\n",
    "def prepare_train_data(data, factor = 0):\n",
    "    df = data.copy()\n",
    "    fd_RUL = df.groupby('unit_number')['time_in_cycles'].max().reset_index()\n",
    "    fd_RUL = pd.DataFrame(fd_RUL)\n",
    "    fd_RUL.columns = ['unit_number','max']\n",
    "    df = df.merge(fd_RUL, on=['unit_number'], how='left')\n",
    "    df['RUL'] = df['max'] - df['time_in_cycles']\n",
    "    df.drop(columns=['max'],inplace = True)\n",
    "    \n",
    "    return df[df['time_in_cycles'] > factor]\n"
   ]
  },
  {
   "cell_type": "code",
   "execution_count": 100,
   "metadata": {},
   "outputs": [],
   "source": [
    "df = prepare_train_data(fd_001_train)"
   ]
  },
  {
   "cell_type": "code",
   "execution_count": 101,
   "metadata": {},
   "outputs": [],
   "source": [
    "train_df = df.drop(columns = ['unit_number','setting_1','setting_2','P15','NRc'])"
   ]
  },
  {
   "cell_type": "code",
   "execution_count": 102,
   "metadata": {},
   "outputs": [],
   "source": [
    "X = train_df.iloc[:,:14].to_numpy() \n",
    "Y = train_df.iloc[:,14:].to_numpy()\n",
    "Y = np.ravel(Y)"
   ]
  },
  {
   "cell_type": "code",
   "execution_count": 103,
   "metadata": {},
   "outputs": [
    {
     "data": {
      "text/plain": [
       "20631"
      ]
     },
     "execution_count": 103,
     "metadata": {},
     "output_type": "execute_result"
    }
   ],
   "source": [
    "X.shape[0]"
   ]
  },
  {
   "cell_type": "code",
   "execution_count": 104,
   "metadata": {},
   "outputs": [],
   "source": [
    "y_scaler = StandardScaler()\n",
    "y_train_scaled = y_scaler.fit_transform(Y.reshape(-1,1)).flatten()"
   ]
  },
  {
   "cell_type": "code",
   "execution_count": 143,
   "metadata": {},
   "outputs": [
    {
     "name": "stdout",
     "output_type": "stream",
     "text": [
      "_________________________________________________________________\n",
      "Layer (type)                 Output Shape              Param #   \n",
      "=================================================================\n",
      "dense_98 (Dense)             (None, 140)               2100      \n",
      "_________________________________________________________________\n",
      "dense_99 (Dense)             (None, 140)               19740     \n",
      "_________________________________________________________________\n",
      "dense_100 (Dense)            (None, 280)               39480     \n",
      "_________________________________________________________________\n",
      "dropout_29 (Dropout)         (None, 280)               0         \n",
      "_________________________________________________________________\n",
      "dense_101 (Dense)            (None, 280)               78680     \n",
      "_________________________________________________________________\n",
      "dense_102 (Dense)            (None, 280)               78680     \n",
      "_________________________________________________________________\n",
      "dropout_30 (Dropout)         (None, 280)               0         \n",
      "_________________________________________________________________\n",
      "dense_103 (Dense)            (None, 280)               78680     \n",
      "_________________________________________________________________\n",
      "dense_104 (Dense)            (None, 14)                3934      \n",
      "_________________________________________________________________\n",
      "dense_105 (Dense)            (None, 1)                 15        \n",
      "=================================================================\n",
      "Total params: 301,309\n",
      "Trainable params: 301,309\n",
      "Non-trainable params: 0\n",
      "_________________________________________________________________\n"
     ]
    }
   ],
   "source": [
    "NN_model = Sequential()\n",
    "\n",
    "# The Input Layer :\n",
    "NN_model.add(Dense(140, kernel_initializer='normal',input_dim = X.shape[1], activation='relu'))\n",
    "\n",
    "# The Hidden Layers :\n",
    "NN_model.add(Dense(140, kernel_initializer='normal',activation='relu'))\n",
    "NN_model.add(Dense(280, kernel_initializer='normal',activation='relu'))\n",
    "NN_model.add(Dropout(0.2))\n",
    "NN_model.add(Dense(280, kernel_initializer='normal',activation='relu'))\n",
    "NN_model.add(Dense(280, kernel_initializer='normal',activation='relu'))\n",
    "NN_model.add(Dropout(0.2))\n",
    "NN_model.add(Dense(280, kernel_initializer='normal',activation='relu'))\n",
    "NN_model.add(Dense(14, kernel_initializer='normal',activation='linear'))\n",
    "# The Output Layer :\n",
    "NN_model.add(Dense(1, kernel_initializer='normal',activation='linear'))\n",
    "\n",
    "# Compile the network :\n",
    "NN_model.compile(loss='mean_absolute_error', optimizer='adam', metrics=['mean_absolute_error'])\n",
    "NN_model.summary()"
   ]
  },
  {
   "cell_type": "markdown",
   "metadata": {},
   "source": [
    "## Define a checkpoint callback :"
   ]
  },
  {
   "cell_type": "code",
   "execution_count": 109,
   "metadata": {},
   "outputs": [],
   "source": [
    "checkpoint_name = 'Weights-{epoch:03d}--{val_loss:.5f}.hdf5' \n",
    "checkpoint = ModelCheckpoint(checkpoint_name, monitor='val_loss', verbose = 1, save_best_only = True, mode ='auto')\n",
    "callbacks_list = [checkpoint]"
   ]
  },
  {
   "cell_type": "markdown",
   "metadata": {},
   "source": [
    "## Train the model :"
   ]
  },
  {
   "cell_type": "code",
   "execution_count": 144,
   "metadata": {},
   "outputs": [
    {
     "name": "stdout",
     "output_type": "stream",
     "text": [
      "Train on 18540 samples, validate on 2060 samples\n",
      "Epoch 1/50\n",
      "18540/18540 [==============================] - 4s 234us/step - loss: 0.9263 - mean_absolute_error: 0.9263 - val_loss: 0.9445 - val_mean_absolute_error: 0.9445\n",
      "\n",
      "Epoch 00001: val_loss did not improve from 0.75523\n",
      "Epoch 2/50\n",
      "18540/18540 [==============================] - 2s 88us/step - loss: 0.7597 - mean_absolute_error: 0.7597 - val_loss: 0.9038 - val_mean_absolute_error: 0.9038\n",
      "\n",
      "Epoch 00002: val_loss did not improve from 0.75523\n",
      "Epoch 3/50\n",
      "18540/18540 [==============================] - 2s 88us/step - loss: 0.5248 - mean_absolute_error: 0.5248 - val_loss: 0.7821 - val_mean_absolute_error: 0.7821\n",
      "\n",
      "Epoch 00003: val_loss did not improve from 0.75523\n",
      "Epoch 4/50\n",
      "18540/18540 [==============================] - 2s 91us/step - loss: 0.4802 - mean_absolute_error: 0.4802 - val_loss: 0.7645 - val_mean_absolute_error: 0.7645\n",
      "\n",
      "Epoch 00004: val_loss did not improve from 0.75523\n",
      "Epoch 5/50\n",
      "18540/18540 [==============================] - 2s 89us/step - loss: 0.4595 - mean_absolute_error: 0.4595 - val_loss: 0.7902 - val_mean_absolute_error: 0.7902\n",
      "\n",
      "Epoch 00005: val_loss did not improve from 0.75523\n",
      "Epoch 6/50\n",
      "18540/18540 [==============================] - ETA: 0s - loss: 0.4508 - mean_absolute_error: 0.450 - 2s 88us/step - loss: 0.4506 - mean_absolute_error: 0.4506 - val_loss: 0.7738 - val_mean_absolute_error: 0.7738\n",
      "\n",
      "Epoch 00006: val_loss did not improve from 0.75523\n",
      "Epoch 7/50\n",
      "18540/18540 [==============================] - 2s 88us/step - loss: 0.4573 - mean_absolute_error: 0.4573 - val_loss: 0.8150 - val_mean_absolute_error: 0.8150 - mean_absolute_error: 0.45\n",
      "\n",
      "Epoch 00007: val_loss did not improve from 0.75523\n",
      "Epoch 8/50\n",
      "18540/18540 [==============================] - 2s 88us/step - loss: 0.4577 - mean_absolute_error: 0.4577 - val_loss: 0.8101 - val_mean_absolute_error: 0.8101\n",
      "\n",
      "Epoch 00008: val_loss did not improve from 0.75523\n",
      "Epoch 9/50\n",
      "18540/18540 [==============================] - 2s 86us/step - loss: 0.4603 - mean_absolute_error: 0.4603 - val_loss: 0.7655 - val_mean_absolute_error: 0.7655\n",
      "\n",
      "Epoch 00009: val_loss did not improve from 0.75523\n",
      "Epoch 10/50\n",
      "18540/18540 [==============================] - 2s 93us/step - loss: 0.4606 - mean_absolute_error: 0.4606 - val_loss: 0.7660 - val_mean_absolute_error: 0.7660\n",
      "\n",
      "Epoch 00010: val_loss did not improve from 0.75523\n",
      "Epoch 11/50\n",
      "18540/18540 [==============================] - 2s 100us/step - loss: 0.4575 - mean_absolute_error: 0.4575 - val_loss: 0.7636 - val_mean_absolute_error: 0.7636\n",
      "\n",
      "Epoch 00011: val_loss did not improve from 0.75523\n",
      "Epoch 12/50\n",
      "18540/18540 [==============================] - 2s 90us/step - loss: 0.4508 - mean_absolute_error: 0.4508 - val_loss: 0.7706 - val_mean_absolute_error: 0.7706\n",
      "\n",
      "Epoch 00012: val_loss did not improve from 0.75523\n",
      "Epoch 13/50\n",
      "18540/18540 [==============================] - 2s 92us/step - loss: 0.4513 - mean_absolute_error: 0.4513 - val_loss: 0.7833 - val_mean_absolute_error: 0.7833\n",
      "\n",
      "Epoch 00013: val_loss did not improve from 0.75523\n",
      "Epoch 14/50\n",
      "18540/18540 [==============================] - 2s 94us/step - loss: 0.4453 - mean_absolute_error: 0.4453 - val_loss: 0.7655 - val_mean_absolute_error: 0.7655\n",
      "\n",
      "Epoch 00014: val_loss did not improve from 0.75523\n",
      "Epoch 15/50\n",
      "18540/18540 [==============================] - 2s 87us/step - loss: 0.4478 - mean_absolute_error: 0.4478 - val_loss: 0.7654 - val_mean_absolute_error: 0.7654\n",
      "\n",
      "Epoch 00015: val_loss did not improve from 0.75523\n",
      "Epoch 16/50\n",
      "18540/18540 [==============================] - 2s 91us/step - loss: 0.4462 - mean_absolute_error: 0.4462 - val_loss: 0.7668 - val_mean_absolute_error: 0.7668\n",
      "\n",
      "Epoch 00016: val_loss did not improve from 0.75523\n",
      "Epoch 17/50\n",
      "18540/18540 [==============================] - 2s 89us/step - loss: 0.4450 - mean_absolute_error: 0.4450 - val_loss: 0.7769 - val_mean_absolute_error: 0.7769\n",
      "\n",
      "Epoch 00017: val_loss did not improve from 0.75523\n",
      "Epoch 18/50\n",
      "18540/18540 [==============================] - 2s 94us/step - loss: 0.4484 - mean_absolute_error: 0.4484 - val_loss: 0.7691 - val_mean_absolute_error: 0.7691\n",
      "\n",
      "Epoch 00018: val_loss did not improve from 0.75523\n",
      "Epoch 19/50\n",
      "18540/18540 [==============================] - 2s 91us/step - loss: 0.4468 - mean_absolute_error: 0.4468 - val_loss: 0.7741 - val_mean_absolute_error: 0.7741\n",
      "\n",
      "Epoch 00019: val_loss did not improve from 0.75523\n",
      "Epoch 20/50\n",
      "18540/18540 [==============================] - 2s 91us/step - loss: 0.4431 - mean_absolute_error: 0.4431 - val_loss: 0.7637 - val_mean_absolute_error: 0.7637\n",
      "\n",
      "Epoch 00020: val_loss did not improve from 0.75523\n",
      "Epoch 21/50\n",
      "18540/18540 [==============================] - 2s 91us/step - loss: 0.4536 - mean_absolute_error: 0.4536 - val_loss: 0.8062 - val_mean_absolute_error: 0.8062\n",
      "\n",
      "Epoch 00021: val_loss did not improve from 0.75523\n",
      "Epoch 22/50\n",
      "18540/18540 [==============================] - 2s 95us/step - loss: 0.4525 - mean_absolute_error: 0.4525 - val_loss: 0.7856 - val_mean_absolute_error: 0.7856 0s - loss: 0.4473 - mean_absolute_e\n",
      "\n",
      "Epoch 00022: val_loss did not improve from 0.75523\n",
      "Epoch 23/50\n",
      "18540/18540 [==============================] - 2s 97us/step - loss: 0.4438 - mean_absolute_error: 0.4438 - val_loss: 0.7687 - val_mean_absolute_error: 0.7687\n",
      "\n",
      "Epoch 00023: val_loss did not improve from 0.75523\n",
      "Epoch 24/50\n",
      "18540/18540 [==============================] - 2s 90us/step - loss: 0.4421 - mean_absolute_error: 0.4421 - val_loss: 0.7685 - val_mean_absolute_error: 0.7685\n",
      "\n",
      "Epoch 00024: val_loss did not improve from 0.75523\n",
      "Epoch 25/50\n",
      "18540/18540 [==============================] - 2s 87us/step - loss: 0.4429 - mean_absolute_error: 0.4429 - val_loss: 0.7744 - val_mean_absolute_error: 0.7744\n",
      "\n",
      "Epoch 00025: val_loss did not improve from 0.75523\n",
      "Epoch 26/50\n",
      "18540/18540 [==============================] - 2s 89us/step - loss: 0.4517 - mean_absolute_error: 0.4517 - val_loss: 0.7650 - val_mean_absolute_error: 0.7650\n",
      "\n",
      "Epoch 00026: val_loss did not improve from 0.75523\n",
      "Epoch 27/50\n",
      "18540/18540 [==============================] - 2s 90us/step - loss: 0.4424 - mean_absolute_error: 0.4424 - val_loss: 0.7634 - val_mean_absolute_error: 0.7634\n",
      "\n",
      "Epoch 00027: val_loss did not improve from 0.75523\n",
      "Epoch 28/50\n",
      "18540/18540 [==============================] - 2s 91us/step - loss: 0.4457 - mean_absolute_error: 0.4457 - val_loss: 0.7845 - val_mean_absolute_error: 0.7845\n",
      "\n",
      "Epoch 00028: val_loss did not improve from 0.75523\n",
      "Epoch 29/50\n",
      "18540/18540 [==============================] - 2s 94us/step - loss: 0.4493 - mean_absolute_error: 0.4493 - val_loss: 0.8051 - val_mean_absolute_error: 0.8051\n",
      "\n",
      "Epoch 00029: val_loss did not improve from 0.75523\n",
      "Epoch 30/50\n",
      "18540/18540 [==============================] - 2s 91us/step - loss: 0.4426 - mean_absolute_error: 0.4426 - val_loss: 0.7743 - val_mean_absolute_error: 0.7743\n",
      "\n",
      "Epoch 00030: val_loss did not improve from 0.75523\n",
      "Epoch 31/50\n",
      "18540/18540 [==============================] - 2s 95us/step - loss: 0.4431 - mean_absolute_error: 0.4431 - val_loss: 0.7898 - val_mean_absolute_error: 0.7898\n",
      "\n",
      "Epoch 00031: val_loss did not improve from 0.75523\n",
      "Epoch 32/50\n",
      "18540/18540 [==============================] - 2s 93us/step - loss: 0.4446 - mean_absolute_error: 0.4446 - val_loss: 0.8012 - val_mean_absolute_error: 0.8012\n",
      "\n",
      "Epoch 00032: val_loss did not improve from 0.75523\n",
      "Epoch 33/50\n",
      "18540/18540 [==============================] - 2s 100us/step - loss: 0.4459 - mean_absolute_error: 0.4459 - val_loss: 0.7667 - val_mean_absolute_error: 0.7667\n",
      "\n",
      "Epoch 00033: val_loss did not improve from 0.75523\n",
      "Epoch 34/50\n",
      "18540/18540 [==============================] - 2s 90us/step - loss: 0.4438 - mean_absolute_error: 0.4438 - val_loss: 0.7990 - val_mean_absolute_error: 0.7990\n",
      "\n",
      "Epoch 00034: val_loss did not improve from 0.75523\n",
      "Epoch 35/50\n",
      "18540/18540 [==============================] - 2s 89us/step - loss: 0.4415 - mean_absolute_error: 0.4415 - val_loss: 0.7725 - val_mean_absolute_error: 0.7725\n",
      "\n",
      "Epoch 00035: val_loss did not improve from 0.75523\n",
      "Epoch 36/50\n",
      "18540/18540 [==============================] - 2s 90us/step - loss: 0.4471 - mean_absolute_error: 0.4471 - val_loss: 0.7882 - val_mean_absolute_error: 0.7882\n",
      "\n",
      "Epoch 00036: val_loss did not improve from 0.75523\n",
      "Epoch 37/50\n"
     ]
    },
    {
     "name": "stdout",
     "output_type": "stream",
     "text": [
      "18540/18540 [==============================] - 2s 87us/step - loss: 0.4433 - mean_absolute_error: 0.4433 - val_loss: 0.7955 - val_mean_absolute_error: 0.7955\n",
      "\n",
      "Epoch 00037: val_loss did not improve from 0.75523\n",
      "Epoch 38/50\n",
      "18540/18540 [==============================] - 2s 91us/step - loss: 0.4432 - mean_absolute_error: 0.4432 - val_loss: 0.7798 - val_mean_absolute_error: 0.7798\n",
      "\n",
      "Epoch 00038: val_loss did not improve from 0.75523\n",
      "Epoch 39/50\n",
      "18540/18540 [==============================] - 2s 87us/step - loss: 0.4427 - mean_absolute_error: 0.4427 - val_loss: 0.8152 - val_mean_absolute_error: 0.8152\n",
      "\n",
      "Epoch 00039: val_loss did not improve from 0.75523\n",
      "Epoch 40/50\n",
      "18540/18540 [==============================] - 2s 90us/step - loss: 0.4461 - mean_absolute_error: 0.4461 - val_loss: 0.7630 - val_mean_absolute_error: 0.7630\n",
      "\n",
      "Epoch 00040: val_loss did not improve from 0.75523\n",
      "Epoch 41/50\n",
      "18540/18540 [==============================] - 2s 96us/step - loss: 0.4423 - mean_absolute_error: 0.4423 - val_loss: 0.7700 - val_mean_absolute_error: 0.7700\n",
      "\n",
      "Epoch 00041: val_loss did not improve from 0.75523\n",
      "Epoch 42/50\n",
      "18540/18540 [==============================] - 2s 88us/step - loss: 0.4428 - mean_absolute_error: 0.4428 - val_loss: 0.8250 - val_mean_absolute_error: 0.8250\n",
      "\n",
      "Epoch 00042: val_loss did not improve from 0.75523\n",
      "Epoch 43/50\n",
      "18540/18540 [==============================] - 2s 88us/step - loss: 0.4415 - mean_absolute_error: 0.4415 - val_loss: 0.8014 - val_mean_absolute_error: 0.8014\n",
      "\n",
      "Epoch 00043: val_loss did not improve from 0.75523\n",
      "Epoch 44/50\n",
      "18540/18540 [==============================] - 2s 90us/step - loss: 0.4395 - mean_absolute_error: 0.4395 - val_loss: 0.8059 - val_mean_absolute_error: 0.8059\n",
      "\n",
      "Epoch 00044: val_loss did not improve from 0.75523\n",
      "Epoch 45/50\n",
      "18540/18540 [==============================] - 2s 88us/step - loss: 0.4390 - mean_absolute_error: 0.4390 - val_loss: 0.7812 - val_mean_absolute_error: 0.7812\n",
      "\n",
      "Epoch 00045: val_loss did not improve from 0.75523\n",
      "Epoch 46/50\n",
      "18540/18540 [==============================] - 2s 90us/step - loss: 0.4384 - mean_absolute_error: 0.4384 - val_loss: 0.7938 - val_mean_absolute_error: 0.7938\n",
      "\n",
      "Epoch 00046: val_loss did not improve from 0.75523\n",
      "Epoch 47/50\n",
      "18540/18540 [==============================] - 2s 89us/step - loss: 0.4383 - mean_absolute_error: 0.4383 - val_loss: 0.7699 - val_mean_absolute_error: 0.7699\n",
      "\n",
      "Epoch 00047: val_loss did not improve from 0.75523\n",
      "Epoch 48/50\n",
      "18540/18540 [==============================] - 2s 89us/step - loss: 0.4398 - mean_absolute_error: 0.4398 - val_loss: 0.7652 - val_mean_absolute_error: 0.7652\n",
      "\n",
      "Epoch 00048: val_loss did not improve from 0.75523\n",
      "Epoch 49/50\n",
      "18540/18540 [==============================] - 2s 91us/step - loss: 0.4373 - mean_absolute_error: 0.4373 - val_loss: 0.7668 - val_mean_absolute_error: 0.7668\n",
      "\n",
      "Epoch 00049: val_loss did not improve from 0.75523\n",
      "Epoch 50/50\n",
      "18540/18540 [==============================] - 2s 89us/step - loss: 0.4405 - mean_absolute_error: 0.4405 - val_loss: 0.7787 - val_mean_absolute_error: 0.7787\n",
      "\n",
      "Epoch 00050: val_loss did not improve from 0.75523\n"
     ]
    },
    {
     "data": {
      "text/plain": [
       "<keras.callbacks.History at 0x2462218bc18>"
      ]
     },
     "execution_count": 144,
     "metadata": {},
     "output_type": "execute_result"
    }
   ],
   "source": [
    "NN_model.fit(X[:20600], y_train_scaled[:20600], epochs=50, batch_size=200, validation_split = 0.1, callbacks=callbacks_list)"
   ]
  },
  {
   "cell_type": "markdown",
   "metadata": {},
   "source": [
    "## Тестовые данные"
   ]
  },
  {
   "cell_type": "code",
   "execution_count": 113,
   "metadata": {},
   "outputs": [],
   "source": [
    "fd_001_test.drop(columns=['Nf_dmd','PCNfR_dmd','P2','T2','TRA','farB','epr'],inplace=True)\n",
    "test_max = fd_001_test.groupby('unit_number')['time_in_cycles'].max().reset_index()\n",
    "test_max.columns = ['unit_number','max']\n",
    "fd_001_test = fd_001_test.merge(test_max, on=['unit_number'], how='left')\n",
    "test = fd_001_test[fd_001_test['time_in_cycles'] == fd_001_test['max']].reset_index()\n",
    "test.drop(columns=['index','max','unit_number','setting_1','setting_2','P15','NRc'],inplace = True)\n",
    "X_001_test = test.to_numpy()"
   ]
  },
  {
   "cell_type": "code",
   "execution_count": 114,
   "metadata": {},
   "outputs": [],
   "source": [
    "RUL = pd.read_csv('C:/Users/Игорь/Downloads/nasa-cmaps/CMaps/RUL_FD001.txt',header=None,sep=' ')\n",
    "y_true = RUL[0].to_numpy()"
   ]
  },
  {
   "cell_type": "code",
   "execution_count": 145,
   "metadata": {},
   "outputs": [],
   "source": [
    "y_pred = NN_model.predict(X_001_test)\n",
    "y_pred = y_scaler.inverse_transform(y_pred).flatten()"
   ]
  },
  {
   "cell_type": "code",
   "execution_count": 146,
   "metadata": {},
   "outputs": [
    {
     "data": {
      "text/plain": [
       "28.24475067138672"
      ]
     },
     "execution_count": 146,
     "metadata": {},
     "output_type": "execute_result"
    }
   ],
   "source": [
    "mean_absolute_error(y_true, y_pred)"
   ]
  },
  {
   "cell_type": "code",
   "execution_count": 147,
   "metadata": {},
   "outputs": [
    {
     "data": {
      "text/plain": [
       "0.35127345118248055"
      ]
     },
     "execution_count": 147,
     "metadata": {},
     "output_type": "execute_result"
    }
   ],
   "source": [
    "r2_score(y_true, y_pred)"
   ]
  },
  {
   "cell_type": "code",
   "execution_count": 148,
   "metadata": {},
   "outputs": [
    {
     "data": {
      "image/png": "[encoded data removed]",
      "text/plain": [
       "<Figure size 432x288 with 1 Axes>"
      ]
     },
     "metadata": {
      "needs_background": "light"
     },
     "output_type": "display_data"
    }
   ],
   "source": [
    "plt.plot(y_pred)\n",
    "plt.plot(y_true)\n",
    "\n",
    "\n",
    "plt.tick_params(axis='x', which='both', bottom=False, top=False,\n",
    "                labelbottom=False)\n",
    "plt.ylabel('RUL')\n",
    "plt.xlabel('training samples')\n",
    "plt.legend(('Predicted', 'True'), loc='upper right')\n",
    "plt.title('Сравнение реальных и предсказанных значений при совместном для всех двигателей предсказании ')\n",
    "plt.show()"
   ]
  },
  {
   "cell_type": "code",
   "execution_count": 149,
   "metadata": {},
   "outputs": [],
   "source": [
    "a = [i for i in range(1,5)]"
   ]
  }
 ],
 "metadata": {
  "kernelspec": {
   "display_name": "Python 3",
   "language": "python",
   "name": "python3"
  },
  "language_info": {
   "codemirror_mode": {
    "name": "ipython",
    "version": 3
   },
   "file_extension": ".py",
   "mimetype": "text/x-python",
   "name": "python",
   "nbconvert_exporter": "python",
   "pygments_lexer": "ipython3",
   "version": "3.7.3"
  }
 },
 "nbformat": 4,
 "nbformat_minor": 2
}
